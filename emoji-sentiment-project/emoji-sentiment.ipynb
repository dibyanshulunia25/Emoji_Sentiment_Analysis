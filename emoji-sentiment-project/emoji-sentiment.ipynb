{
 "cells": [
  {
   "cell_type": "markdown",
   "metadata": {},
   "source": [
    "# Emoji Sentiment\n",
    "\n",
    "Are popular emojis generally associated with positive or negative sentiments?\n",
    "\n",
    "The file `\"emoji-sentiment.csv\"` provides data on the sentiment associated with various emojis.\n",
    "\n",
    "Researchers examined 1.6 million tweets across 13 European languages. Each tweet was labeled by annotators as positive (+1), negative (-1), or neutral (0). About 4% of these tweets included emojis.\n",
    "\n",
    "Columns include:\n",
    "- `Occurrences [5...max]`: Number of times the emoji appears in the dataset.\n",
    "- `Position [0...1]`: Average position of the emoji in tweets, from start (0) to end (1).\n",
    "- `Neg [0...1]`: Percentage of tweets with the emoji that are 'negative'.\n",
    "- `Neu [0...1]`: Percentage of tweets with the emoji that are 'neutral'.\n",
    "- `Pos [0...1]`: Percentage of tweets with the emoji that are 'positive'.\n",
    "\n"
   ]
  },
  {
   "cell_type": "code",
   "execution_count": 121,
   "metadata": {},
   "outputs": [],
   "source": [
    "# FOR GOOGLE COLAB ONLY.\n",
    "# Uncomment and run the code below. A dialog will appear to upload files.\n",
    "# Upload 'emoji-sentiment.csv'.\n",
    "\n",
    "# from google.colab import files\n",
    "# uploaded = files.upload()"
   ]
  },
  {
   "cell_type": "markdown",
   "metadata": {},
   "source": [
    "# Import Necessary libraries and read the dataset"
   ]
  },
  {
   "cell_type": "code",
   "execution_count": 122,
   "metadata": {},
   "outputs": [],
   "source": [
    "import pandas as pd\n",
    "import matplotlib.pyplot as plt\n",
    "df = pd.read_csv('emoji-sentiment.csv')"
   ]
  },
  {
   "cell_type": "markdown",
   "metadata": {},
   "source": [
    "### Project Ideas:\n",
    "\n",
    "Data Cleaning: \n",
    "- Remove unnecessary columns that are not useful for your analysis.\n",
    "\n",
    "- Rename the remaining columns using `snake_case` (all lowercase letters with underscores between words).\n",
    "\n",
    "New Variables:\n",
    "- Add a new column called `sentiment`, where sentiment = (% positive tweets) - (% negative tweets).\n",
    "\n",
    "- Add a `positive_flag` column that is `True` if `sentiment > 0` (or above a set threshold), otherwise `False`.\n",
    "\n",
    "Types of questions you can now answer more easily:\n",
    "- What percentage of emojis in the dataset have a positive sentiment?\n",
    "\n",
    "- What percentage of the top 20 most popular emojis are positive?\n",
    "\n",
    "- Which emoji (with more than 500 mentions) is the most positive?\n",
    "\n",
    "- Which emoji (with more than 500 mentions) is the most negative?\n",
    "\n",
    "- Where in the tweets are most emojis located (i.e. at the beginning or the end)?\n",
    "\n",
    "- Is there a difference in the placement of positive versus negative emojis within a tweet?"
   ]
  },
  {
   "cell_type": "code",
   "execution_count": 123,
   "metadata": {},
   "outputs": [
    {
     "data": {
      "text/html": [
       "<div>\n",
       "<style scoped>\n",
       "    .dataframe tbody tr th:only-of-type {\n",
       "        vertical-align: middle;\n",
       "    }\n",
       "\n",
       "    .dataframe tbody tr th {\n",
       "        vertical-align: top;\n",
       "    }\n",
       "\n",
       "    .dataframe thead th {\n",
       "        text-align: right;\n",
       "    }\n",
       "</style>\n",
       "<table border=\"1\" class=\"dataframe\">\n",
       "  <thead>\n",
       "    <tr style=\"text-align: right;\">\n",
       "      <th></th>\n",
       "      <th>Char</th>\n",
       "      <th>Image [twemoji]</th>\n",
       "      <th>Unicode codepoint</th>\n",
       "      <th>Occurrences [5...max]</th>\n",
       "      <th>Position [0...1]</th>\n",
       "      <th>Neg [0...1]</th>\n",
       "      <th>Neut [0...1]</th>\n",
       "      <th>Pos [0...1]</th>\n",
       "      <th>Sentiment bar (c.i. 95%)</th>\n",
       "      <th>Unicode name</th>\n",
       "      <th>Unicode block</th>\n",
       "    </tr>\n",
       "  </thead>\n",
       "  <tbody>\n",
       "    <tr>\n",
       "      <th>0</th>\n",
       "      <td>😂</td>\n",
       "      <td>😂</td>\n",
       "      <td>0x1f602</td>\n",
       "      <td>14622</td>\n",
       "      <td>0.805</td>\n",
       "      <td>0.247</td>\n",
       "      <td>0.285</td>\n",
       "      <td>0.468</td>\n",
       "      <td>NaN</td>\n",
       "      <td>FACE WITH TEARS OF JOY</td>\n",
       "      <td>Emoticons</td>\n",
       "    </tr>\n",
       "    <tr>\n",
       "      <th>1</th>\n",
       "      <td>❤</td>\n",
       "      <td>❤</td>\n",
       "      <td>0x2764</td>\n",
       "      <td>8050</td>\n",
       "      <td>0.747</td>\n",
       "      <td>0.044</td>\n",
       "      <td>0.166</td>\n",
       "      <td>0.790</td>\n",
       "      <td>NaN</td>\n",
       "      <td>HEAVY BLACK HEART</td>\n",
       "      <td>Dingbats</td>\n",
       "    </tr>\n",
       "    <tr>\n",
       "      <th>2</th>\n",
       "      <td>♥</td>\n",
       "      <td>♥</td>\n",
       "      <td>0x2665</td>\n",
       "      <td>7144</td>\n",
       "      <td>0.754</td>\n",
       "      <td>0.035</td>\n",
       "      <td>0.272</td>\n",
       "      <td>0.693</td>\n",
       "      <td>NaN</td>\n",
       "      <td>BLACK HEART SUIT</td>\n",
       "      <td>Miscellaneous Symbols</td>\n",
       "    </tr>\n",
       "    <tr>\n",
       "      <th>3</th>\n",
       "      <td>😍</td>\n",
       "      <td>😍</td>\n",
       "      <td>0x1f60d</td>\n",
       "      <td>6359</td>\n",
       "      <td>0.765</td>\n",
       "      <td>0.052</td>\n",
       "      <td>0.219</td>\n",
       "      <td>0.729</td>\n",
       "      <td>NaN</td>\n",
       "      <td>SMILING FACE WITH HEART-SHAPED EYES</td>\n",
       "      <td>Emoticons</td>\n",
       "    </tr>\n",
       "    <tr>\n",
       "      <th>4</th>\n",
       "      <td>😭</td>\n",
       "      <td>😭</td>\n",
       "      <td>0x1f62d</td>\n",
       "      <td>5526</td>\n",
       "      <td>0.803</td>\n",
       "      <td>0.436</td>\n",
       "      <td>0.220</td>\n",
       "      <td>0.343</td>\n",
       "      <td>NaN</td>\n",
       "      <td>LOUDLY CRYING FACE</td>\n",
       "      <td>Emoticons</td>\n",
       "    </tr>\n",
       "    <tr>\n",
       "      <th>...</th>\n",
       "      <td>...</td>\n",
       "      <td>...</td>\n",
       "      <td>...</td>\n",
       "      <td>...</td>\n",
       "      <td>...</td>\n",
       "      <td>...</td>\n",
       "      <td>...</td>\n",
       "      <td>...</td>\n",
       "      <td>...</td>\n",
       "      <td>...</td>\n",
       "      <td>...</td>\n",
       "    </tr>\n",
       "    <tr>\n",
       "      <th>746</th>\n",
       "      <td>♮</td>\n",
       "      <td>♮</td>\n",
       "      <td>0x266e</td>\n",
       "      <td>5</td>\n",
       "      <td>0.937</td>\n",
       "      <td>0.125</td>\n",
       "      <td>0.625</td>\n",
       "      <td>0.250</td>\n",
       "      <td>NaN</td>\n",
       "      <td>MUSIC NATURAL SIGN</td>\n",
       "      <td>Miscellaneous Symbols</td>\n",
       "    </tr>\n",
       "    <tr>\n",
       "      <th>747</th>\n",
       "      <td>🅾</td>\n",
       "      <td>🅾</td>\n",
       "      <td>0x1f17e</td>\n",
       "      <td>5</td>\n",
       "      <td>0.977</td>\n",
       "      <td>0.375</td>\n",
       "      <td>0.375</td>\n",
       "      <td>0.250</td>\n",
       "      <td>NaN</td>\n",
       "      <td>NEGATIVE SQUARED LATIN CAPITAL LETTER O</td>\n",
       "      <td>Enclosed Alphanumeric Supplement</td>\n",
       "    </tr>\n",
       "    <tr>\n",
       "      <th>748</th>\n",
       "      <td>🔄</td>\n",
       "      <td>🔄</td>\n",
       "      <td>0x1f504</td>\n",
       "      <td>5</td>\n",
       "      <td>0.971</td>\n",
       "      <td>0.125</td>\n",
       "      <td>0.750</td>\n",
       "      <td>0.125</td>\n",
       "      <td>NaN</td>\n",
       "      <td>ANTICLOCKWISE DOWNWARDS AND UPWARDS OPEN CIRCL...</td>\n",
       "      <td>Miscellaneous Symbols and Pictographs</td>\n",
       "    </tr>\n",
       "    <tr>\n",
       "      <th>749</th>\n",
       "      <td>☄</td>\n",
       "      <td>☄</td>\n",
       "      <td>0x2604</td>\n",
       "      <td>5</td>\n",
       "      <td>0.435</td>\n",
       "      <td>0.125</td>\n",
       "      <td>0.750</td>\n",
       "      <td>0.125</td>\n",
       "      <td>NaN</td>\n",
       "      <td>COMET</td>\n",
       "      <td>Miscellaneous Symbols</td>\n",
       "    </tr>\n",
       "    <tr>\n",
       "      <th>750</th>\n",
       "      <td>☨</td>\n",
       "      <td>☨</td>\n",
       "      <td>0x2628</td>\n",
       "      <td>5</td>\n",
       "      <td>0.458</td>\n",
       "      <td>0.125</td>\n",
       "      <td>0.750</td>\n",
       "      <td>0.125</td>\n",
       "      <td>NaN</td>\n",
       "      <td>CROSS OF LORRAINE</td>\n",
       "      <td>Miscellaneous Symbols</td>\n",
       "    </tr>\n",
       "  </tbody>\n",
       "</table>\n",
       "<p>751 rows × 11 columns</p>\n",
       "</div>"
      ],
      "text/plain": [
       "    Char Image [twemoji] Unicode codepoint  Occurrences [5...max]  \\\n",
       "0      😂               😂           0x1f602                  14622   \n",
       "1      ❤               ❤            0x2764                   8050   \n",
       "2      ♥               ♥            0x2665                   7144   \n",
       "3      😍               😍           0x1f60d                   6359   \n",
       "4      😭               😭           0x1f62d                   5526   \n",
       "..   ...             ...               ...                    ...   \n",
       "746    ♮               ♮            0x266e                      5   \n",
       "747    🅾               🅾           0x1f17e                      5   \n",
       "748    🔄               🔄           0x1f504                      5   \n",
       "749    ☄               ☄            0x2604                      5   \n",
       "750    ☨               ☨            0x2628                      5   \n",
       "\n",
       "     Position [0...1]  Neg [0...1]  Neut [0...1]  Pos [0...1]  \\\n",
       "0               0.805        0.247         0.285        0.468   \n",
       "1               0.747        0.044         0.166        0.790   \n",
       "2               0.754        0.035         0.272        0.693   \n",
       "3               0.765        0.052         0.219        0.729   \n",
       "4               0.803        0.436         0.220        0.343   \n",
       "..                ...          ...           ...          ...   \n",
       "746             0.937        0.125         0.625        0.250   \n",
       "747             0.977        0.375         0.375        0.250   \n",
       "748             0.971        0.125         0.750        0.125   \n",
       "749             0.435        0.125         0.750        0.125   \n",
       "750             0.458        0.125         0.750        0.125   \n",
       "\n",
       "     Sentiment bar (c.i. 95%)  \\\n",
       "0                         NaN   \n",
       "1                         NaN   \n",
       "2                         NaN   \n",
       "3                         NaN   \n",
       "4                         NaN   \n",
       "..                        ...   \n",
       "746                       NaN   \n",
       "747                       NaN   \n",
       "748                       NaN   \n",
       "749                       NaN   \n",
       "750                       NaN   \n",
       "\n",
       "                                          Unicode name  \\\n",
       "0                               FACE WITH TEARS OF JOY   \n",
       "1                                    HEAVY BLACK HEART   \n",
       "2                                     BLACK HEART SUIT   \n",
       "3                  SMILING FACE WITH HEART-SHAPED EYES   \n",
       "4                                   LOUDLY CRYING FACE   \n",
       "..                                                 ...   \n",
       "746                                 MUSIC NATURAL SIGN   \n",
       "747            NEGATIVE SQUARED LATIN CAPITAL LETTER O   \n",
       "748  ANTICLOCKWISE DOWNWARDS AND UPWARDS OPEN CIRCL...   \n",
       "749                                              COMET   \n",
       "750                                  CROSS OF LORRAINE   \n",
       "\n",
       "                             Unicode block  \n",
       "0                                Emoticons  \n",
       "1                                 Dingbats  \n",
       "2                    Miscellaneous Symbols  \n",
       "3                                Emoticons  \n",
       "4                                Emoticons  \n",
       "..                                     ...  \n",
       "746                  Miscellaneous Symbols  \n",
       "747       Enclosed Alphanumeric Supplement  \n",
       "748  Miscellaneous Symbols and Pictographs  \n",
       "749                  Miscellaneous Symbols  \n",
       "750                  Miscellaneous Symbols  \n",
       "\n",
       "[751 rows x 11 columns]"
      ]
     },
     "execution_count": 123,
     "metadata": {},
     "output_type": "execute_result"
    }
   ],
   "source": [
    "df"
   ]
  },
  {
   "cell_type": "markdown",
   "metadata": {},
   "source": [
    "### Short description and statistical information about the dataset"
   ]
  },
  {
   "cell_type": "code",
   "execution_count": 124,
   "metadata": {},
   "outputs": [
    {
     "name": "stdout",
     "output_type": "stream",
     "text": [
      "<class 'pandas.core.frame.DataFrame'>\n",
      "RangeIndex: 751 entries, 0 to 750\n",
      "Data columns (total 11 columns):\n",
      " #   Column                    Non-Null Count  Dtype  \n",
      "---  ------                    --------------  -----  \n",
      " 0   Char                      751 non-null    object \n",
      " 1   Image [twemoji]           751 non-null    object \n",
      " 2   Unicode codepoint         751 non-null    object \n",
      " 3   Occurrences [5...max]     751 non-null    int64  \n",
      " 4   Position [0...1]          751 non-null    float64\n",
      " 5   Neg [0...1]               751 non-null    float64\n",
      " 6   Neut [0...1]              751 non-null    float64\n",
      " 7   Pos [0...1]               751 non-null    float64\n",
      " 8   Sentiment bar (c.i. 95%)  0 non-null      float64\n",
      " 9   Unicode name              751 non-null    object \n",
      " 10  Unicode block             751 non-null    object \n",
      "dtypes: float64(5), int64(1), object(5)\n",
      "memory usage: 64.7+ KB\n"
     ]
    },
    {
     "data": {
      "text/html": [
       "<div>\n",
       "<style scoped>\n",
       "    .dataframe tbody tr th:only-of-type {\n",
       "        vertical-align: middle;\n",
       "    }\n",
       "\n",
       "    .dataframe tbody tr th {\n",
       "        vertical-align: top;\n",
       "    }\n",
       "\n",
       "    .dataframe thead th {\n",
       "        text-align: right;\n",
       "    }\n",
       "</style>\n",
       "<table border=\"1\" class=\"dataframe\">\n",
       "  <thead>\n",
       "    <tr style=\"text-align: right;\">\n",
       "      <th></th>\n",
       "      <th>Occurrences [5...max]</th>\n",
       "      <th>Position [0...1]</th>\n",
       "      <th>Neg [0...1]</th>\n",
       "      <th>Neut [0...1]</th>\n",
       "      <th>Pos [0...1]</th>\n",
       "      <th>Sentiment bar (c.i. 95%)</th>\n",
       "    </tr>\n",
       "  </thead>\n",
       "  <tbody>\n",
       "    <tr>\n",
       "      <th>count</th>\n",
       "      <td>751.000000</td>\n",
       "      <td>751.000000</td>\n",
       "      <td>751.000000</td>\n",
       "      <td>751.000000</td>\n",
       "      <td>751.000000</td>\n",
       "      <td>0.0</td>\n",
       "    </tr>\n",
       "    <tr>\n",
       "      <th>mean</th>\n",
       "      <td>208.331558</td>\n",
       "      <td>0.665549</td>\n",
       "      <td>0.163784</td>\n",
       "      <td>0.388993</td>\n",
       "      <td>0.447237</td>\n",
       "      <td>NaN</td>\n",
       "    </tr>\n",
       "    <tr>\n",
       "      <th>std</th>\n",
       "      <td>804.865155</td>\n",
       "      <td>0.164450</td>\n",
       "      <td>0.137368</td>\n",
       "      <td>0.181690</td>\n",
       "      <td>0.186525</td>\n",
       "      <td>NaN</td>\n",
       "    </tr>\n",
       "    <tr>\n",
       "      <th>min</th>\n",
       "      <td>5.000000</td>\n",
       "      <td>0.012000</td>\n",
       "      <td>0.006000</td>\n",
       "      <td>0.014000</td>\n",
       "      <td>0.007000</td>\n",
       "      <td>NaN</td>\n",
       "    </tr>\n",
       "    <tr>\n",
       "      <th>25%</th>\n",
       "      <td>12.000000</td>\n",
       "      <td>0.575000</td>\n",
       "      <td>0.069500</td>\n",
       "      <td>0.254000</td>\n",
       "      <td>0.313000</td>\n",
       "      <td>NaN</td>\n",
       "    </tr>\n",
       "    <tr>\n",
       "      <th>50%</th>\n",
       "      <td>33.000000</td>\n",
       "      <td>0.688000</td>\n",
       "      <td>0.121000</td>\n",
       "      <td>0.349000</td>\n",
       "      <td>0.447000</td>\n",
       "      <td>NaN</td>\n",
       "    </tr>\n",
       "    <tr>\n",
       "      <th>75%</th>\n",
       "      <td>115.000000</td>\n",
       "      <td>0.789500</td>\n",
       "      <td>0.209000</td>\n",
       "      <td>0.500000</td>\n",
       "      <td>0.595500</td>\n",
       "      <td>NaN</td>\n",
       "    </tr>\n",
       "    <tr>\n",
       "      <th>max</th>\n",
       "      <td>14622.000000</td>\n",
       "      <td>0.994000</td>\n",
       "      <td>0.778000</td>\n",
       "      <td>0.987000</td>\n",
       "      <td>0.972000</td>\n",
       "      <td>NaN</td>\n",
       "    </tr>\n",
       "  </tbody>\n",
       "</table>\n",
       "</div>"
      ],
      "text/plain": [
       "       Occurrences [5...max]  Position [0...1]  Neg [0...1]  Neut [0...1]  \\\n",
       "count             751.000000        751.000000   751.000000    751.000000   \n",
       "mean              208.331558          0.665549     0.163784      0.388993   \n",
       "std               804.865155          0.164450     0.137368      0.181690   \n",
       "min                 5.000000          0.012000     0.006000      0.014000   \n",
       "25%                12.000000          0.575000     0.069500      0.254000   \n",
       "50%                33.000000          0.688000     0.121000      0.349000   \n",
       "75%               115.000000          0.789500     0.209000      0.500000   \n",
       "max             14622.000000          0.994000     0.778000      0.987000   \n",
       "\n",
       "       Pos [0...1]  Sentiment bar (c.i. 95%)  \n",
       "count   751.000000                       0.0  \n",
       "mean      0.447237                       NaN  \n",
       "std       0.186525                       NaN  \n",
       "min       0.007000                       NaN  \n",
       "25%       0.313000                       NaN  \n",
       "50%       0.447000                       NaN  \n",
       "75%       0.595500                       NaN  \n",
       "max       0.972000                       NaN  "
      ]
     },
     "execution_count": 124,
     "metadata": {},
     "output_type": "execute_result"
    }
   ],
   "source": [
    "# YOUR CODE HERE (add additional cells as needed)\n",
    "df.info()\n",
    "df.describe()\n"
   ]
  },
  {
   "cell_type": "markdown",
   "metadata": {},
   "source": [
    "### Renaming the columns(removing spaces and using snake case to rename)"
   ]
  },
  {
   "cell_type": "code",
   "execution_count": 125,
   "metadata": {},
   "outputs": [],
   "source": [
    "new_name={\n",
    "    'Char':'Char',\n",
    "    'Image [twemoji]':'Image',\n",
    "    'Unicode codepoint':'unicode_codepoint',\n",
    "    'Occurrences [5...max]':'Occurrences',\n",
    "    'Position [0...1]':'Position',\n",
    "    'Neg [0...1]':'Neg',\n",
    "    'Neut [0...1]':'Neut',\n",
    "    'Pos [0...1]':'Pos',\n",
    "    'Sentiment bar (c.i. 95%)':'sentiment_bar',\n",
    "    'Unicode name':'name',\n",
    "    'Unicode block':'block'\n",
    "}\n",
    "\n",
    "df=df.rename(columns=new_name)"
   ]
  },
  {
   "cell_type": "markdown",
   "metadata": {},
   "source": [
    "### Getting emojis with atleast 500 occurrences"
   ]
  },
  {
   "cell_type": "code",
   "execution_count": 126,
   "metadata": {},
   "outputs": [],
   "source": [
    "pos_500_Occ=df[df['Occurrences']>500]"
   ]
  },
  {
   "cell_type": "markdown",
   "metadata": {},
   "source": [
    "### Printing out the most Positively and most Negatively used emoji"
   ]
  },
  {
   "cell_type": "code",
   "execution_count": 127,
   "metadata": {},
   "outputs": [
    {
     "name": "stdout",
     "output_type": "stream",
     "text": [
      "The most positive emoji with more than 500 occurrences is:\n",
      "   Char Image unicode_codepoint  Occurrences  Position    Neg   Neut   Pos  \\\n",
      "1    ❤     ❤            0x2764         8050     0.747  0.044  0.166  0.79   \n",
      "\n",
      "   sentiment_bar               name     block  \n",
      "1            NaN  HEAVY BLACK HEART  Dingbats  \n",
      "The most negative emoji with more than 500 occurrences is:\n",
      "    Char Image unicode_codepoint  Occurrences  Position    Neg   Neut    Pos  \\\n",
      "14    😩     😩           0x1f629         1808     0.826  0.591  0.186  0.223   \n",
      "23    😒     😒           0x1f612         1385     0.858  0.591  0.192  0.217   \n",
      "\n",
      "    sentiment_bar           name      block  \n",
      "14            NaN     WEARY FACE  Emoticons  \n",
      "23            NaN  UNAMUSED FACE  Emoticons  \n"
     ]
    }
   ],
   "source": [
    "print(\"The most positive emoji with more than 500 occurrences is:\\n\",pos_500_Occ.query('Occurrences>500 & (Pos== Pos.max())'))\n",
    "print(\"The most negative emoji with more than 500 occurrences is:\\n\",pos_500_Occ.query('Occurrences>500 & (Neg== Neg.max())'))"
   ]
  },
  {
   "cell_type": "markdown",
   "metadata": {},
   "source": [
    "### Finding out the most frequent placement of emojis"
   ]
  },
  {
   "cell_type": "code",
   "execution_count": 128,
   "metadata": {},
   "outputs": [
    {
     "name": "stdout",
     "output_type": "stream",
     "text": [
      "Most of the emojis are at the end\n"
     ]
    }
   ],
   "source": [
    "pos=df['Position'].mean()\n",
    "if(pos<0.49):\n",
    "    print(\"Most of the emojis are at the beginning\")\n",
    "else:\n",
    "    print(\"Most of the emojis are at the end\")\n"
   ]
  },
  {
   "cell_type": "markdown",
   "metadata": {},
   "source": [
    "### Creating a smaller dataset using only necessary columns for analysis"
   ]
  },
  {
   "cell_type": "code",
   "execution_count": 129,
   "metadata": {},
   "outputs": [
    {
     "data": {
      "text/html": [
       "<div>\n",
       "<style scoped>\n",
       "    .dataframe tbody tr th:only-of-type {\n",
       "        vertical-align: middle;\n",
       "    }\n",
       "\n",
       "    .dataframe tbody tr th {\n",
       "        vertical-align: top;\n",
       "    }\n",
       "\n",
       "    .dataframe thead th {\n",
       "        text-align: right;\n",
       "    }\n",
       "</style>\n",
       "<table border=\"1\" class=\"dataframe\">\n",
       "  <thead>\n",
       "    <tr style=\"text-align: right;\">\n",
       "      <th></th>\n",
       "      <th>Occurrences</th>\n",
       "      <th>Position</th>\n",
       "      <th>Neg</th>\n",
       "      <th>Neut</th>\n",
       "      <th>Pos</th>\n",
       "    </tr>\n",
       "  </thead>\n",
       "  <tbody>\n",
       "    <tr>\n",
       "      <th>0</th>\n",
       "      <td>14622</td>\n",
       "      <td>0.805</td>\n",
       "      <td>0.247</td>\n",
       "      <td>0.285</td>\n",
       "      <td>0.468</td>\n",
       "    </tr>\n",
       "    <tr>\n",
       "      <th>1</th>\n",
       "      <td>8050</td>\n",
       "      <td>0.747</td>\n",
       "      <td>0.044</td>\n",
       "      <td>0.166</td>\n",
       "      <td>0.790</td>\n",
       "    </tr>\n",
       "    <tr>\n",
       "      <th>2</th>\n",
       "      <td>7144</td>\n",
       "      <td>0.754</td>\n",
       "      <td>0.035</td>\n",
       "      <td>0.272</td>\n",
       "      <td>0.693</td>\n",
       "    </tr>\n",
       "    <tr>\n",
       "      <th>3</th>\n",
       "      <td>6359</td>\n",
       "      <td>0.765</td>\n",
       "      <td>0.052</td>\n",
       "      <td>0.219</td>\n",
       "      <td>0.729</td>\n",
       "    </tr>\n",
       "    <tr>\n",
       "      <th>4</th>\n",
       "      <td>5526</td>\n",
       "      <td>0.803</td>\n",
       "      <td>0.436</td>\n",
       "      <td>0.220</td>\n",
       "      <td>0.343</td>\n",
       "    </tr>\n",
       "    <tr>\n",
       "      <th>...</th>\n",
       "      <td>...</td>\n",
       "      <td>...</td>\n",
       "      <td>...</td>\n",
       "      <td>...</td>\n",
       "      <td>...</td>\n",
       "    </tr>\n",
       "    <tr>\n",
       "      <th>746</th>\n",
       "      <td>5</td>\n",
       "      <td>0.937</td>\n",
       "      <td>0.125</td>\n",
       "      <td>0.625</td>\n",
       "      <td>0.250</td>\n",
       "    </tr>\n",
       "    <tr>\n",
       "      <th>747</th>\n",
       "      <td>5</td>\n",
       "      <td>0.977</td>\n",
       "      <td>0.375</td>\n",
       "      <td>0.375</td>\n",
       "      <td>0.250</td>\n",
       "    </tr>\n",
       "    <tr>\n",
       "      <th>748</th>\n",
       "      <td>5</td>\n",
       "      <td>0.971</td>\n",
       "      <td>0.125</td>\n",
       "      <td>0.750</td>\n",
       "      <td>0.125</td>\n",
       "    </tr>\n",
       "    <tr>\n",
       "      <th>749</th>\n",
       "      <td>5</td>\n",
       "      <td>0.435</td>\n",
       "      <td>0.125</td>\n",
       "      <td>0.750</td>\n",
       "      <td>0.125</td>\n",
       "    </tr>\n",
       "    <tr>\n",
       "      <th>750</th>\n",
       "      <td>5</td>\n",
       "      <td>0.458</td>\n",
       "      <td>0.125</td>\n",
       "      <td>0.750</td>\n",
       "      <td>0.125</td>\n",
       "    </tr>\n",
       "  </tbody>\n",
       "</table>\n",
       "<p>751 rows × 5 columns</p>\n",
       "</div>"
      ],
      "text/plain": [
       "     Occurrences  Position    Neg   Neut    Pos\n",
       "0          14622     0.805  0.247  0.285  0.468\n",
       "1           8050     0.747  0.044  0.166  0.790\n",
       "2           7144     0.754  0.035  0.272  0.693\n",
       "3           6359     0.765  0.052  0.219  0.729\n",
       "4           5526     0.803  0.436  0.220  0.343\n",
       "..           ...       ...    ...    ...    ...\n",
       "746            5     0.937  0.125  0.625  0.250\n",
       "747            5     0.977  0.375  0.375  0.250\n",
       "748            5     0.971  0.125  0.750  0.125\n",
       "749            5     0.435  0.125  0.750  0.125\n",
       "750            5     0.458  0.125  0.750  0.125\n",
       "\n",
       "[751 rows x 5 columns]"
      ]
     },
     "execution_count": 129,
     "metadata": {},
     "output_type": "execute_result"
    }
   ],
   "source": [
    "emoji = df[['Occurrences','Position','Neg','Neut','Pos']]\n",
    "emoji"
   ]
  },
  {
   "cell_type": "markdown",
   "metadata": {},
   "source": [
    "### Adding a new sentiment column"
   ]
  },
  {
   "cell_type": "code",
   "execution_count": 130,
   "metadata": {},
   "outputs": [
    {
     "name": "stderr",
     "output_type": "stream",
     "text": [
      "C:\\Users\\Dibyanshu\\AppData\\Local\\Temp\\ipykernel_15876\\329991398.py:1: SettingWithCopyWarning: \n",
      "A value is trying to be set on a copy of a slice from a DataFrame.\n",
      "Try using .loc[row_indexer,col_indexer] = value instead\n",
      "\n",
      "See the caveats in the documentation: https://pandas.pydata.org/pandas-docs/stable/user_guide/indexing.html#returning-a-view-versus-a-copy\n",
      "  emoji['Sentiment']=emoji.eval('Pos-Neg')\n"
     ]
    },
    {
     "data": {
      "text/html": [
       "<div>\n",
       "<style scoped>\n",
       "    .dataframe tbody tr th:only-of-type {\n",
       "        vertical-align: middle;\n",
       "    }\n",
       "\n",
       "    .dataframe tbody tr th {\n",
       "        vertical-align: top;\n",
       "    }\n",
       "\n",
       "    .dataframe thead th {\n",
       "        text-align: right;\n",
       "    }\n",
       "</style>\n",
       "<table border=\"1\" class=\"dataframe\">\n",
       "  <thead>\n",
       "    <tr style=\"text-align: right;\">\n",
       "      <th></th>\n",
       "      <th>Occurrences</th>\n",
       "      <th>Position</th>\n",
       "      <th>Neg</th>\n",
       "      <th>Neut</th>\n",
       "      <th>Pos</th>\n",
       "      <th>Sentiment</th>\n",
       "    </tr>\n",
       "  </thead>\n",
       "  <tbody>\n",
       "    <tr>\n",
       "      <th>0</th>\n",
       "      <td>14622</td>\n",
       "      <td>0.805</td>\n",
       "      <td>0.247</td>\n",
       "      <td>0.285</td>\n",
       "      <td>0.468</td>\n",
       "      <td>0.221</td>\n",
       "    </tr>\n",
       "    <tr>\n",
       "      <th>1</th>\n",
       "      <td>8050</td>\n",
       "      <td>0.747</td>\n",
       "      <td>0.044</td>\n",
       "      <td>0.166</td>\n",
       "      <td>0.790</td>\n",
       "      <td>0.746</td>\n",
       "    </tr>\n",
       "    <tr>\n",
       "      <th>2</th>\n",
       "      <td>7144</td>\n",
       "      <td>0.754</td>\n",
       "      <td>0.035</td>\n",
       "      <td>0.272</td>\n",
       "      <td>0.693</td>\n",
       "      <td>0.658</td>\n",
       "    </tr>\n",
       "    <tr>\n",
       "      <th>3</th>\n",
       "      <td>6359</td>\n",
       "      <td>0.765</td>\n",
       "      <td>0.052</td>\n",
       "      <td>0.219</td>\n",
       "      <td>0.729</td>\n",
       "      <td>0.677</td>\n",
       "    </tr>\n",
       "    <tr>\n",
       "      <th>4</th>\n",
       "      <td>5526</td>\n",
       "      <td>0.803</td>\n",
       "      <td>0.436</td>\n",
       "      <td>0.220</td>\n",
       "      <td>0.343</td>\n",
       "      <td>-0.093</td>\n",
       "    </tr>\n",
       "    <tr>\n",
       "      <th>...</th>\n",
       "      <td>...</td>\n",
       "      <td>...</td>\n",
       "      <td>...</td>\n",
       "      <td>...</td>\n",
       "      <td>...</td>\n",
       "      <td>...</td>\n",
       "    </tr>\n",
       "    <tr>\n",
       "      <th>746</th>\n",
       "      <td>5</td>\n",
       "      <td>0.937</td>\n",
       "      <td>0.125</td>\n",
       "      <td>0.625</td>\n",
       "      <td>0.250</td>\n",
       "      <td>0.125</td>\n",
       "    </tr>\n",
       "    <tr>\n",
       "      <th>747</th>\n",
       "      <td>5</td>\n",
       "      <td>0.977</td>\n",
       "      <td>0.375</td>\n",
       "      <td>0.375</td>\n",
       "      <td>0.250</td>\n",
       "      <td>-0.125</td>\n",
       "    </tr>\n",
       "    <tr>\n",
       "      <th>748</th>\n",
       "      <td>5</td>\n",
       "      <td>0.971</td>\n",
       "      <td>0.125</td>\n",
       "      <td>0.750</td>\n",
       "      <td>0.125</td>\n",
       "      <td>0.000</td>\n",
       "    </tr>\n",
       "    <tr>\n",
       "      <th>749</th>\n",
       "      <td>5</td>\n",
       "      <td>0.435</td>\n",
       "      <td>0.125</td>\n",
       "      <td>0.750</td>\n",
       "      <td>0.125</td>\n",
       "      <td>0.000</td>\n",
       "    </tr>\n",
       "    <tr>\n",
       "      <th>750</th>\n",
       "      <td>5</td>\n",
       "      <td>0.458</td>\n",
       "      <td>0.125</td>\n",
       "      <td>0.750</td>\n",
       "      <td>0.125</td>\n",
       "      <td>0.000</td>\n",
       "    </tr>\n",
       "  </tbody>\n",
       "</table>\n",
       "<p>751 rows × 6 columns</p>\n",
       "</div>"
      ],
      "text/plain": [
       "     Occurrences  Position    Neg   Neut    Pos  Sentiment\n",
       "0          14622     0.805  0.247  0.285  0.468      0.221\n",
       "1           8050     0.747  0.044  0.166  0.790      0.746\n",
       "2           7144     0.754  0.035  0.272  0.693      0.658\n",
       "3           6359     0.765  0.052  0.219  0.729      0.677\n",
       "4           5526     0.803  0.436  0.220  0.343     -0.093\n",
       "..           ...       ...    ...    ...    ...        ...\n",
       "746            5     0.937  0.125  0.625  0.250      0.125\n",
       "747            5     0.977  0.375  0.375  0.250     -0.125\n",
       "748            5     0.971  0.125  0.750  0.125      0.000\n",
       "749            5     0.435  0.125  0.750  0.125      0.000\n",
       "750            5     0.458  0.125  0.750  0.125      0.000\n",
       "\n",
       "[751 rows x 6 columns]"
      ]
     },
     "execution_count": 130,
     "metadata": {},
     "output_type": "execute_result"
    }
   ],
   "source": [
    "emoji['Sentiment']=emoji.eval('Pos-Neg')\n",
    "emoji"
   ]
  },
  {
   "cell_type": "markdown",
   "metadata": {},
   "source": [
    "### Positive flag feature for all emojis based on sentiment"
   ]
  },
  {
   "cell_type": "code",
   "execution_count": 131,
   "metadata": {},
   "outputs": [
    {
     "name": "stderr",
     "output_type": "stream",
     "text": [
      "C:\\Users\\Dibyanshu\\AppData\\Local\\Temp\\ipykernel_15876\\3081539767.py:1: SettingWithCopyWarning: \n",
      "A value is trying to be set on a copy of a slice from a DataFrame.\n",
      "Try using .loc[row_indexer,col_indexer] = value instead\n",
      "\n",
      "See the caveats in the documentation: https://pandas.pydata.org/pandas-docs/stable/user_guide/indexing.html#returning-a-view-versus-a-copy\n",
      "  emoji['positive_flag']=emoji['Sentiment']>0\n"
     ]
    },
    {
     "data": {
      "text/html": [
       "<div>\n",
       "<style scoped>\n",
       "    .dataframe tbody tr th:only-of-type {\n",
       "        vertical-align: middle;\n",
       "    }\n",
       "\n",
       "    .dataframe tbody tr th {\n",
       "        vertical-align: top;\n",
       "    }\n",
       "\n",
       "    .dataframe thead th {\n",
       "        text-align: right;\n",
       "    }\n",
       "</style>\n",
       "<table border=\"1\" class=\"dataframe\">\n",
       "  <thead>\n",
       "    <tr style=\"text-align: right;\">\n",
       "      <th></th>\n",
       "      <th>Occurrences</th>\n",
       "      <th>Position</th>\n",
       "      <th>Neg</th>\n",
       "      <th>Neut</th>\n",
       "      <th>Pos</th>\n",
       "      <th>Sentiment</th>\n",
       "      <th>positive_flag</th>\n",
       "    </tr>\n",
       "  </thead>\n",
       "  <tbody>\n",
       "    <tr>\n",
       "      <th>0</th>\n",
       "      <td>14622</td>\n",
       "      <td>0.805</td>\n",
       "      <td>0.247</td>\n",
       "      <td>0.285</td>\n",
       "      <td>0.468</td>\n",
       "      <td>0.221</td>\n",
       "      <td>True</td>\n",
       "    </tr>\n",
       "    <tr>\n",
       "      <th>1</th>\n",
       "      <td>8050</td>\n",
       "      <td>0.747</td>\n",
       "      <td>0.044</td>\n",
       "      <td>0.166</td>\n",
       "      <td>0.790</td>\n",
       "      <td>0.746</td>\n",
       "      <td>True</td>\n",
       "    </tr>\n",
       "    <tr>\n",
       "      <th>2</th>\n",
       "      <td>7144</td>\n",
       "      <td>0.754</td>\n",
       "      <td>0.035</td>\n",
       "      <td>0.272</td>\n",
       "      <td>0.693</td>\n",
       "      <td>0.658</td>\n",
       "      <td>True</td>\n",
       "    </tr>\n",
       "    <tr>\n",
       "      <th>3</th>\n",
       "      <td>6359</td>\n",
       "      <td>0.765</td>\n",
       "      <td>0.052</td>\n",
       "      <td>0.219</td>\n",
       "      <td>0.729</td>\n",
       "      <td>0.677</td>\n",
       "      <td>True</td>\n",
       "    </tr>\n",
       "    <tr>\n",
       "      <th>4</th>\n",
       "      <td>5526</td>\n",
       "      <td>0.803</td>\n",
       "      <td>0.436</td>\n",
       "      <td>0.220</td>\n",
       "      <td>0.343</td>\n",
       "      <td>-0.093</td>\n",
       "      <td>False</td>\n",
       "    </tr>\n",
       "    <tr>\n",
       "      <th>...</th>\n",
       "      <td>...</td>\n",
       "      <td>...</td>\n",
       "      <td>...</td>\n",
       "      <td>...</td>\n",
       "      <td>...</td>\n",
       "      <td>...</td>\n",
       "      <td>...</td>\n",
       "    </tr>\n",
       "    <tr>\n",
       "      <th>746</th>\n",
       "      <td>5</td>\n",
       "      <td>0.937</td>\n",
       "      <td>0.125</td>\n",
       "      <td>0.625</td>\n",
       "      <td>0.250</td>\n",
       "      <td>0.125</td>\n",
       "      <td>True</td>\n",
       "    </tr>\n",
       "    <tr>\n",
       "      <th>747</th>\n",
       "      <td>5</td>\n",
       "      <td>0.977</td>\n",
       "      <td>0.375</td>\n",
       "      <td>0.375</td>\n",
       "      <td>0.250</td>\n",
       "      <td>-0.125</td>\n",
       "      <td>False</td>\n",
       "    </tr>\n",
       "    <tr>\n",
       "      <th>748</th>\n",
       "      <td>5</td>\n",
       "      <td>0.971</td>\n",
       "      <td>0.125</td>\n",
       "      <td>0.750</td>\n",
       "      <td>0.125</td>\n",
       "      <td>0.000</td>\n",
       "      <td>False</td>\n",
       "    </tr>\n",
       "    <tr>\n",
       "      <th>749</th>\n",
       "      <td>5</td>\n",
       "      <td>0.435</td>\n",
       "      <td>0.125</td>\n",
       "      <td>0.750</td>\n",
       "      <td>0.125</td>\n",
       "      <td>0.000</td>\n",
       "      <td>False</td>\n",
       "    </tr>\n",
       "    <tr>\n",
       "      <th>750</th>\n",
       "      <td>5</td>\n",
       "      <td>0.458</td>\n",
       "      <td>0.125</td>\n",
       "      <td>0.750</td>\n",
       "      <td>0.125</td>\n",
       "      <td>0.000</td>\n",
       "      <td>False</td>\n",
       "    </tr>\n",
       "  </tbody>\n",
       "</table>\n",
       "<p>751 rows × 7 columns</p>\n",
       "</div>"
      ],
      "text/plain": [
       "     Occurrences  Position    Neg   Neut    Pos  Sentiment  positive_flag\n",
       "0          14622     0.805  0.247  0.285  0.468      0.221           True\n",
       "1           8050     0.747  0.044  0.166  0.790      0.746           True\n",
       "2           7144     0.754  0.035  0.272  0.693      0.658           True\n",
       "3           6359     0.765  0.052  0.219  0.729      0.677           True\n",
       "4           5526     0.803  0.436  0.220  0.343     -0.093          False\n",
       "..           ...       ...    ...    ...    ...        ...            ...\n",
       "746            5     0.937  0.125  0.625  0.250      0.125           True\n",
       "747            5     0.977  0.375  0.375  0.250     -0.125          False\n",
       "748            5     0.971  0.125  0.750  0.125      0.000          False\n",
       "749            5     0.435  0.125  0.750  0.125      0.000          False\n",
       "750            5     0.458  0.125  0.750  0.125      0.000          False\n",
       "\n",
       "[751 rows x 7 columns]"
      ]
     },
     "execution_count": 131,
     "metadata": {},
     "output_type": "execute_result"
    }
   ],
   "source": [
    "emoji['positive_flag']=emoji['Sentiment']>0\n",
    "emoji"
   ]
  },
  {
   "cell_type": "markdown",
   "metadata": {},
   "source": [
    "### Finding out the prcentage of emojis that are positively used"
   ]
  },
  {
   "cell_type": "code",
   "execution_count": 132,
   "metadata": {},
   "outputs": [
    {
     "data": {
      "text/plain": [
       "82.42343541944075"
      ]
     },
     "execution_count": 132,
     "metadata": {},
     "output_type": "execute_result"
    }
   ],
   "source": [
    "per_pos=emoji['positive_flag'].mean()*100\n",
    "per_pos"
   ]
  },
  {
   "cell_type": "markdown",
   "metadata": {},
   "source": [
    "### finding out the Percentage of top 20 emojies with percentage flag as true"
   ]
  },
  {
   "cell_type": "code",
   "execution_count": 133,
   "metadata": {},
   "outputs": [
    {
     "name": "stdout",
     "output_type": "stream",
     "text": [
      "90.0\n"
     ]
    }
   ],
   "source": [
    "emoji=emoji.sort_values('Occurrences',ascending=False)\n",
    "print(emoji['positive_flag'].head(20).mean()*100)"
   ]
  },
  {
   "cell_type": "markdown",
   "metadata": {},
   "source": [
    "### import necessary libraries and modules to train and test a model"
   ]
  },
  {
   "cell_type": "code",
   "execution_count": 134,
   "metadata": {},
   "outputs": [],
   "source": [
    "from sklearn.model_selection import train_test_split\n",
    "from sklearn.tree import DecisionTreeClassifier\n",
    "from sklearn.metrics import accuracy_score,confusion_matrix,precision_score,recall_score,f1_score,classification_report"
   ]
  },
  {
   "cell_type": "markdown",
   "metadata": {},
   "source": [
    "### Seperating the data and target"
   ]
  },
  {
   "cell_type": "code",
   "execution_count": 135,
   "metadata": {},
   "outputs": [
    {
     "name": "stdout",
     "output_type": "stream",
     "text": [
      "     Occurrences  Position    Neg   Neut    Pos  Sentiment\n",
      "0          14622     0.805  0.247  0.285  0.468      0.221\n",
      "1           8050     0.747  0.044  0.166  0.790      0.746\n",
      "2           7144     0.754  0.035  0.272  0.693      0.658\n",
      "3           6359     0.765  0.052  0.219  0.729      0.677\n",
      "4           5526     0.803  0.436  0.220  0.343     -0.093\n",
      "..           ...       ...    ...    ...    ...        ...\n",
      "724            5     0.574  0.125  0.375  0.500      0.375\n",
      "723            5     0.510  0.125  0.625  0.250      0.125\n",
      "722            5     0.786  0.125  0.250  0.625      0.500\n",
      "721            5     0.853  0.125  0.750  0.125      0.000\n",
      "750            5     0.458  0.125  0.750  0.125      0.000\n",
      "\n",
      "[751 rows x 6 columns]\n",
      "0       True\n",
      "1       True\n",
      "2       True\n",
      "3       True\n",
      "4      False\n",
      "       ...  \n",
      "724     True\n",
      "723     True\n",
      "722     True\n",
      "721    False\n",
      "750    False\n",
      "Name: positive_flag, Length: 751, dtype: bool\n"
     ]
    }
   ],
   "source": [
    "X=emoji.drop('positive_flag',axis=1)\n",
    "y=emoji['positive_flag']\n",
    "print(X)\n",
    "print(y)"
   ]
  },
  {
   "cell_type": "markdown",
   "metadata": {},
   "source": [
    "### Train TEst split"
   ]
  },
  {
   "cell_type": "code",
   "execution_count": 136,
   "metadata": {},
   "outputs": [
    {
     "name": "stdout",
     "output_type": "stream",
     "text": [
      "     Occurrences  Position    Neg   Neut    Pos  Sentiment\n",
      "93           295     0.807  0.299  0.262  0.440      0.141\n",
      "432           23     0.585  0.346  0.269  0.385      0.039\n",
      "367           34     0.623  0.108  0.432  0.459      0.351\n",
      "487           17     0.870  0.050  0.550  0.400      0.350\n",
      "284           57     0.633  0.167  0.367  0.467      0.300\n",
      "..           ...       ...    ...    ...    ...        ...\n",
      "71           410     0.759  0.228  0.482  0.291      0.063\n",
      "105          270     0.883  0.553  0.282  0.165     -0.388\n",
      "270           62     0.638  0.138  0.492  0.369      0.231\n",
      "430           23     0.584  0.231  0.269  0.500      0.269\n",
      "102          274     0.801  0.029  0.625  0.347      0.318\n",
      "\n",
      "[450 rows x 6 columns]      Occurrences  Position    Neg   Neut    Pos  Sentiment\n",
      "472           19     0.780  0.364  0.227  0.409      0.045\n",
      "357           36     0.047  0.026  0.692  0.282      0.256\n",
      "133          191     0.760  0.144  0.402  0.454      0.310\n",
      "250           72     0.846  0.333  0.413  0.253     -0.080\n",
      "299           51     0.673  0.074  0.444  0.481      0.407\n",
      "..           ...       ...    ...    ...    ...        ...\n",
      "727            5     0.771  0.375  0.375  0.250     -0.125\n",
      "398           28     0.678  0.097  0.419  0.484      0.387\n",
      "615            9     0.657  0.250  0.417  0.333      0.083\n",
      "203           99     0.683  0.176  0.314  0.510      0.334\n",
      "588           11     0.837  0.071  0.357  0.571      0.500\n",
      "\n",
      "[301 rows x 6 columns] 93      True\n",
      "432     True\n",
      "367     True\n",
      "487     True\n",
      "284     True\n",
      "       ...  \n",
      "71      True\n",
      "105    False\n",
      "270     True\n",
      "430     True\n",
      "102     True\n",
      "Name: positive_flag, Length: 450, dtype: bool 472     True\n",
      "357     True\n",
      "133     True\n",
      "250    False\n",
      "299     True\n",
      "       ...  \n",
      "727    False\n",
      "398     True\n",
      "615     True\n",
      "203     True\n",
      "588     True\n",
      "Name: positive_flag, Length: 301, dtype: bool\n"
     ]
    }
   ],
   "source": [
    "X_train,X_test,y_train,y_test=train_test_split(X,y,test_size=0.4,random_state=42)\n",
    "print(X_train,X_test,y_train,y_test)"
   ]
  },
  {
   "cell_type": "markdown",
   "metadata": {},
   "source": [
    "### Model Prediction"
   ]
  },
  {
   "cell_type": "code",
   "execution_count": 180,
   "metadata": {},
   "outputs": [
    {
     "name": "stdout",
     "output_type": "stream",
     "text": [
      "[ True  True  True False  True  True  True  True False  True False  True\n",
      "  True  True  True  True False False  True  True  True  True  True  True\n",
      " False  True  True  True  True  True  True  True  True  True  True  True\n",
      "  True  True False False  True  True  True  True  True  True  True  True\n",
      "  True  True  True  True  True  True  True  True  True  True  True  True\n",
      "  True  True  True  True  True  True  True  True  True  True  True  True\n",
      "  True  True False  True  True  True  True  True  True False  True  True\n",
      "  True  True  True  True  True  True  True False  True  True  True  True\n",
      "  True  True False  True  True  True  True False  True  True  True  True\n",
      "  True  True False  True  True  True  True False  True  True  True False\n",
      "  True  True  True  True  True  True False False  True  True  True  True\n",
      "  True  True  True  True False  True  True  True  True  True  True False\n",
      "  True  True  True  True  True  True  True  True  True  True False  True\n",
      "  True  True  True  True  True False  True  True  True  True  True  True\n",
      "  True  True  True  True  True  True  True  True  True  True False False\n",
      "  True  True  True  True  True  True  True  True  True False  True  True\n",
      " False  True  True  True  True  True  True False  True  True  True  True\n",
      "  True  True  True  True  True  True False False  True  True  True  True\n",
      "  True  True False  True  True  True  True  True False False  True  True\n",
      " False  True  True  True False  True False  True  True  True  True  True\n",
      "  True  True  True  True  True  True False  True  True  True  True  True\n",
      " False False False  True  True  True False False  True  True False  True\n",
      "  True False  True  True  True  True  True  True False  True False  True\n",
      "  True  True  True  True  True  True  True  True  True False  True  True\n",
      "  True  True  True  True  True  True False  True False  True  True  True\n",
      "  True]\n"
     ]
    }
   ],
   "source": [
    "model=DecisionTreeClassifier()\n",
    "model.fit(X_train,y_train)\n",
    "pred=model.predict(X_test)\n",
    "print(pred)\n"
   ]
  },
  {
   "cell_type": "markdown",
   "metadata": {},
   "source": [
    "### Model Reports"
   ]
  },
  {
   "cell_type": "code",
   "execution_count": 181,
   "metadata": {},
   "outputs": [],
   "source": [
    "confusion_matix=confusion_matrix(y_test,pred)\n",
    "accuracy=accuracy_score(y_test,pred)\n",
    "precision=precision_score(y_test,pred)\n",
    "recall=recall_score(y_test,pred)\n",
    "f1=f1_score(y_test,pred)\n",
    "classification=classification_report(y_test,pred)\n"
   ]
  },
  {
   "cell_type": "code",
   "execution_count": 182,
   "metadata": {},
   "outputs": [
    {
     "name": "stdout",
     "output_type": "stream",
     "text": [
      "confusion matrix:\n",
      "\n",
      " [[ 45   0]\n",
      " [  3 253]]\n",
      "\n",
      "The acuuracy score: 0.9900332225913622\n",
      "\n",
      "The precision score: 1.0\n",
      "\n",
      "The recall score: 0.98828125\n",
      "\n",
      "The f1 score: 0.9941060903732809\n",
      "\n",
      "The classification report:\n",
      "               precision    recall  f1-score   support\n",
      "\n",
      "       False       0.94      1.00      0.97        45\n",
      "        True       1.00      0.99      0.99       256\n",
      "\n",
      "    accuracy                           0.99       301\n",
      "   macro avg       0.97      0.99      0.98       301\n",
      "weighted avg       0.99      0.99      0.99       301\n",
      "\n"
     ]
    }
   ],
   "source": [
    "print(\"confusion matrix:\\n\\n\",confusion_matix)\n",
    "print(\"\\nThe acuuracy score:\",accuracy)\n",
    "print(\"\\nThe precision score:\",precision)\n",
    "print(\"\\nThe recall score:\",recall)\n",
    "print(\"\\nThe f1 score:\",f1)\n",
    "print(\"\\nThe classification report:\\n\",classification)\n"
   ]
  },
  {
   "cell_type": "markdown",
   "metadata": {},
   "source": [
    "### Plots"
   ]
  },
  {
   "cell_type": "code",
   "execution_count": 186,
   "metadata": {},
   "outputs": [
    {
     "data": {
      "text/plain": [
       "<matplotlib.collections.PathCollection at 0x16775454530>"
      ]
     },
     "execution_count": 186,
     "metadata": {},
     "output_type": "execute_result"
    },
    {
     "data": {
      "image/png": "[encoded data removed]",
      "text/plain": [
       "<Figure size 640x480 with 1 Axes>"
      ]
     },
     "metadata": {},
     "output_type": "display_data"
    }
   ],
   "source": [
    "plt.scatter(emoji['Pos'],emoji['Position'],c='green')\n",
    "\n"
   ]
  },
  {
   "cell_type": "code",
   "execution_count": 187,
   "metadata": {},
   "outputs": [
    {
     "data": {
      "text/plain": [
       "<matplotlib.collections.PathCollection at 0x16775c55b20>"
      ]
     },
     "execution_count": 187,
     "metadata": {},
     "output_type": "execute_result"
    },
    {
     "data": {
      "image/png": "[encoded data removed]",
      "text/plain": [
       "<Figure size 640x480 with 1 Axes>"
      ]
     },
     "metadata": {},
     "output_type": "display_data"
    }
   ],
   "source": [
    "plt.scatter(emoji['Neg'],emoji['Position'],c='red',)\n"
   ]
  },
  {
   "cell_type": "code",
   "execution_count": 188,
   "metadata": {},
   "outputs": [
    {
     "data": {
      "text/plain": [
       "<matplotlib.collections.PathCollection at 0x16775bfddf0>"
      ]
     },
     "execution_count": 188,
     "metadata": {},
     "output_type": "execute_result"
    },
    {
     "data": {
      "image/png": "[encoded data removed]",
      "text/plain": [
       "<Figure size 640x480 with 1 Axes>"
      ]
     },
     "metadata": {},
     "output_type": "display_data"
    }
   ],
   "source": [
    "plt.scatter(emoji['Neut'],emoji['Position'],c='blue',)"
   ]
  },
  {
   "cell_type": "code",
   "execution_count": 175,
   "metadata": {},
   "outputs": [
    {
     "data": {
      "text/plain": [
       "<matplotlib.collections.PathCollection at 0x1677529ddf0>"
      ]
     },
     "execution_count": 175,
     "metadata": {},
     "output_type": "execute_result"
    },
    {
     "data": {
      "image/png": "[encoded data removed]",
      "text/plain": [
       "<Figure size 640x480 with 1 Axes>"
      ]
     },
     "metadata": {},
     "output_type": "display_data"
    }
   ],
   "source": [
    "plt.scatter(emoji['Position'],emoji['Sentiment'],c='orange',)"
   ]
  },
  {
   "cell_type": "code",
   "execution_count": 179,
   "metadata": {},
   "outputs": [
    {
     "data": {
      "text/plain": [
       "<matplotlib.collections.PathCollection at 0x16773ff4fb0>"
      ]
     },
     "execution_count": 179,
     "metadata": {},
     "output_type": "execute_result"
    },
    {
     "data": {
      "image/png": "[encoded data removed]",
      "text/plain": [
       "<Figure size 640x480 with 1 Axes>"
      ]
     },
     "metadata": {},
     "output_type": "display_data"
    }
   ],
   "source": [
    "plt.scatter(emoji['Occurrences'],emoji['Sentiment'],c='cyan',edgecolors='black')\n"
   ]
  },
  {
   "cell_type": "code",
   "execution_count": 214,
   "metadata": {},
   "outputs": [
    {
     "data": {
      "text/plain": [
       "[<matplotlib.lines.Line2D at 0x1677fe77b90>]"
      ]
     },
     "execution_count": 214,
     "metadata": {},
     "output_type": "execute_result"
    },
    {
     "data": {
      "image/png": "[encoded data removed]",
      "text/plain": [
       "<Figure size 640x480 with 1 Axes>"
      ]
     },
     "metadata": {},
     "output_type": "display_data"
    }
   ],
   "source": [
    "plt.plot(emoji['Neut'],emoji['Occurrences'])\n"
   ]
  }
 ],
 "metadata": {
  "kernelspec": {
   "display_name": "base",
   "language": "python",
   "name": "python3"
  },
  "language_info": {
   "codemirror_mode": {
    "name": "ipython",
    "version": 3
   },
   "file_extension": ".py",
   "mimetype": "text/x-python",
   "name": "python",
   "nbconvert_exporter": "python",
   "pygments_lexer": "ipython3",
   "version": "3.12.4"
  }
 },
 "nbformat": 4,
 "nbformat_minor": 2
}
